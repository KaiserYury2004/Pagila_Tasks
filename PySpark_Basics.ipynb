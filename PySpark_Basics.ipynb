{
 "cells": [
  {
   "cell_type": "markdown",
   "id": "trained-moses",
   "metadata": {},
   "source": [
    "import libraries(I provide all libs that I need when make this tasks, if you need some external import them here)"
   ]
  },
  {
   "cell_type": "code",
   "execution_count": 169,
   "id": "induced-african",
   "metadata": {},
   "outputs": [],
   "source": [
    "import pyspark\n",
    "from pyspark.sql import SparkSession\n",
    "from pyspark.sql.types import StructType, StructField, IntegerType, StringType\n",
    "from pyspark.sql.functions import col\n",
    "from pyspark.sql.functions import max, avg, min\n",
    "from pyspark.sql.window import Window\n",
    "from pyspark.sql.functions import row_number,desc\n",
    "from pyspark.sql.functions import when"
   ]
  },
  {
   "cell_type": "markdown",
   "id": "permanent-photographer",
   "metadata": {},
   "source": [
    "create local SparkSession"
   ]
  },
  {
   "cell_type": "code",
   "execution_count": 170,
   "id": "stock-partnership",
   "metadata": {},
   "outputs": [],
   "source": [
    "spark=SparkSession.builder.appName(\"Spark_1\").getOrCreate()"
   ]
  },
  {
   "cell_type": "markdown",
   "id": "juvenile-blame",
   "metadata": {},
   "source": [
    "read csv with inferschema"
   ]
  },
  {
   "cell_type": "code",
   "execution_count": 171,
   "id": "computational-liverpool",
   "metadata": {},
   "outputs": [
    {
     "name": "stdout",
     "output_type": "stream",
     "text": [
      "+---+---------+----------------+---------------+--------------------+--------+---------------+-------------+------------------+------------+----------------+------------+\n",
      "|_c0|work_year|experience_level|employment_type|           job_title|  salary|salary_currency|salary_in_usd|employee_residence|remote_ratio|company_location|company_size|\n",
      "+---+---------+----------------+---------------+--------------------+--------+---------------+-------------+------------------+------------+----------------+------------+\n",
      "|  0|     2020|              MI|             FT|      Data Scientist|   70000|            EUR|        79833|                DE|           0|              DE|           L|\n",
      "|  1|     2020|              SE|             FT|Machine Learning ...|  260000|            USD|       260000|                JP|           0|              JP|           S|\n",
      "|  2|     2020|              SE|             FT|   Big Data Engineer|   85000|            GBP|       109024|                GB|          50|              GB|           M|\n",
      "|  3|     2020|              MI|             FT|Product Data Analyst|   20000|            USD|        20000|                HN|           0|              HN|           S|\n",
      "|  4|     2020|              SE|             FT|Machine Learning ...|  150000|            USD|       150000|                US|          50|              US|           L|\n",
      "|  5|     2020|              EN|             FT|        Data Analyst|   72000|            USD|        72000|                US|         100|              US|           L|\n",
      "|  6|     2020|              SE|             FT| Lead Data Scientist|  190000|            USD|       190000|                US|         100|              US|           S|\n",
      "|  7|     2020|              MI|             FT|      Data Scientist|11000000|            HUF|        35735|                HU|          50|              HU|           L|\n",
      "|  8|     2020|              MI|             FT|Business Data Ana...|  135000|            USD|       135000|                US|         100|              US|           L|\n",
      "|  9|     2020|              SE|             FT|  Lead Data Engineer|  125000|            USD|       125000|                NZ|          50|              NZ|           S|\n",
      "| 10|     2020|              EN|             FT|      Data Scientist|   45000|            EUR|        51321|                FR|           0|              FR|           S|\n",
      "| 11|     2020|              MI|             FT|      Data Scientist| 3000000|            INR|        40481|                IN|           0|              IN|           L|\n",
      "| 12|     2020|              EN|             FT|      Data Scientist|   35000|            EUR|        39916|                FR|           0|              FR|           M|\n",
      "| 13|     2020|              MI|             FT|   Lead Data Analyst|   87000|            USD|        87000|                US|         100|              US|           L|\n",
      "| 14|     2020|              MI|             FT|        Data Analyst|   85000|            USD|        85000|                US|         100|              US|           L|\n",
      "| 15|     2020|              MI|             FT|        Data Analyst|    8000|            USD|         8000|                PK|          50|              PK|           L|\n",
      "| 16|     2020|              EN|             FT|       Data Engineer| 4450000|            JPY|        41689|                JP|         100|              JP|           S|\n",
      "| 17|     2020|              SE|             FT|   Big Data Engineer|  100000|            EUR|       114047|                PL|         100|              GB|           S|\n",
      "| 18|     2020|              EN|             FT|Data Science Cons...|  423000|            INR|         5707|                IN|          50|              IN|           M|\n",
      "| 19|     2020|              MI|             FT|  Lead Data Engineer|   56000|            USD|        56000|                PT|         100|              US|           M|\n",
      "+---+---------+----------------+---------------+--------------------+--------+---------------+-------------+------------------+------------+----------------+------------+\n",
      "only showing top 20 rows\n",
      "\n"
     ]
    }
   ],
   "source": [
    "df=spark.read.csv(\"./ds_salaries.csv\",inferSchema=True,header=True)\n",
    "df.show()"
   ]
  },
  {
   "cell_type": "markdown",
   "id": "stopped-dominant",
   "metadata": {},
   "source": [
    "read csv one more time with the same code and you will see that it almostly don't take time, because info already in SparkSession and it will not read nothing\n",
    "from this file"
   ]
  },
  {
   "cell_type": "code",
   "execution_count": 172,
   "id": "aging-neighborhood",
   "metadata": {},
   "outputs": [],
   "source": [
    "df=spark.read.csv(\"./ds_salaries.csv\",inferSchema=True,header=True)\n",
    "df=df.withColumnRenamed(\"_c0\",\"id\")"
   ]
  },
  {
   "cell_type": "markdown",
   "id": "mature-tomorrow",
   "metadata": {},
   "source": [
    "write schema of scv on screen"
   ]
  },
  {
   "cell_type": "code",
   "execution_count": 173,
   "id": "least-communications",
   "metadata": {},
   "outputs": [
    {
     "name": "stdout",
     "output_type": "stream",
     "text": [
      "root\n",
      " |-- id: integer (nullable = true)\n",
      " |-- work_year: integer (nullable = true)\n",
      " |-- experience_level: string (nullable = true)\n",
      " |-- employment_type: string (nullable = true)\n",
      " |-- job_title: string (nullable = true)\n",
      " |-- salary: integer (nullable = true)\n",
      " |-- salary_currency: string (nullable = true)\n",
      " |-- salary_in_usd: integer (nullable = true)\n",
      " |-- employee_residence: string (nullable = true)\n",
      " |-- remote_ratio: integer (nullable = true)\n",
      " |-- company_location: string (nullable = true)\n",
      " |-- company_size: string (nullable = true)\n",
      "\n"
     ]
    }
   ],
   "source": [
    "df.printSchema()"
   ]
  },
  {
   "cell_type": "markdown",
   "id": "connected-brother",
   "metadata": {},
   "source": [
    "create schema of this scv"
   ]
  },
  {
   "cell_type": "code",
   "execution_count": 174,
   "id": "progressive-dictionary",
   "metadata": {},
   "outputs": [],
   "source": [
    "\n",
    "#schema=df.schema\n",
    "schema=StructType([StructField(\"_c0\",IntegerType(),True),\n",
    "                    StructField(\"work_year\",IntegerType(),True),\n",
    "                    StructField(\"experience_level\",StringType(),True),\n",
    "                    StructField(\"employment_type\",StringType(),True),\n",
    "                    StructField(\"job_title\",StringType(),True),\n",
    "                    StructField(\"salary\", IntegerType(), True),\n",
    "                    StructField(\"salary_currency\", StringType(), True),\n",
    "                    StructField(\"salary_in_usd\", IntegerType(), True),\n",
    "                    StructField(\"employee_residence\", StringType(), True),\n",
    "                    StructField(\"remote_ratio\", IntegerType(), True),\n",
    "                    StructField(\"company_location\", StringType(), True),\n",
    "                    StructField(\"company_size\", StringType(), True)])"
   ]
  },
  {
   "cell_type": "markdown",
   "id": "auburn-sauce",
   "metadata": {},
   "source": [
    "restart kernel without cleaning output and after restarting you need to initialize SparkSession, after initialize start execute only cells from cell with schema=\n",
    "=StructType.... \n",
    "To restart kernel click Kernel, Restart."
   ]
  },
  {
   "cell_type": "markdown",
   "id": "artistic-hospital",
   "metadata": {},
   "source": [
    "read ds_salaries with predefined schema and compare results from this cell and cell with inferSchema"
   ]
  },
  {
   "cell_type": "code",
   "execution_count": 175,
   "id": "literary-plaintiff",
   "metadata": {},
   "outputs": [
    {
     "data": {
      "text/plain": [
       "<bound method DataFrame.printSchema of DataFrame[_c0: int, work_year: int, experience_level: string, employment_type: string, job_title: string, salary: int, salary_currency: string, salary_in_usd: int, employee_residence: string, remote_ratio: int, company_location: string, company_size: string]>"
      ]
     },
     "execution_count": 175,
     "metadata": {},
     "output_type": "execute_result"
    }
   ],
   "source": [
    "df_schema=spark.read.csv(\"ds_salaries.csv\",header=True,schema=schema)\n",
    "df_infer=spark.read.csv(\"ds_salaries.csv\",header=True,inferSchema=True)\n",
    "df_schema.printSchema\n",
    "#df_infer.printSchema\n"
   ]
  },
  {
   "cell_type": "markdown",
   "id": "senior-joint",
   "metadata": {},
   "source": [
    "this happens because read operation is lazy(transformation), but if you use inferschema it start to be action that will create Spark Job, because Spark need to loop throw all file to check datatypes for all columns and this can harm to your code(if we compare to parquet, it will also go to check data types, but parquet provide meta information, so Spark will not go throw all file, he will just read meta information, but csv don't provide such meta information). Also header make Spark to create one more Spark Job to check first line\n",
    "to define name of columns and remember to skeep it when reading. Actual reading start when you will use first action. More about Spark Jobs you will see in next topic"
   ]
  },
  {
   "cell_type": "markdown",
   "id": "underlying-assurance",
   "metadata": {},
   "source": [
    "write schema of scv on screen one more time and compare with previous"
   ]
  },
  {
   "cell_type": "code",
   "execution_count": 176,
   "id": "solid-infection",
   "metadata": {},
   "outputs": [
    {
     "data": {
      "text/plain": [
       "<bound method DataFrame.printSchema of DataFrame[_c0: int, work_year: int, experience_level: string, employment_type: string, job_title: string, salary: int, salary_currency: string, salary_in_usd: int, employee_residence: string, remote_ratio: int, company_location: string, company_size: string]>"
      ]
     },
     "execution_count": 176,
     "metadata": {},
     "output_type": "execute_result"
    }
   ],
   "source": [
    "df_infer.printSchema"
   ]
  },
  {
   "cell_type": "markdown",
   "id": "close-water",
   "metadata": {},
   "source": [
    "now continue to work with one of the dataframes that you create"
   ]
  },
  {
   "cell_type": "markdown",
   "id": "piano-belgium",
   "metadata": {},
   "source": [
    "print data in dataframe using df.show"
   ]
  },
  {
   "cell_type": "code",
   "execution_count": 177,
   "id": "legendary-alarm",
   "metadata": {},
   "outputs": [
    {
     "data": {
      "text/plain": [
       "DataFrame[id: int, work_year: int, experience_level: string, employment_type: string, job_title: string, salary: int, salary_currency: string, salary_in_usd: int, employee_residence: string, remote_ratio: int, company_location: string, company_size: string]"
      ]
     },
     "execution_count": 177,
     "metadata": {},
     "output_type": "execute_result"
    }
   ],
   "source": [
    "df"
   ]
  },
  {
   "cell_type": "markdown",
   "id": "tamil-medium",
   "metadata": {},
   "source": [
    "print data in dataframe using display(df.toPandas())"
   ]
  },
  {
   "cell_type": "code",
   "execution_count": 178,
   "id": "connected-dryer",
   "metadata": {},
   "outputs": [
    {
     "data": {
      "text/html": [
       "<div>\n",
       "<style scoped>\n",
       "    .dataframe tbody tr th:only-of-type {\n",
       "        vertical-align: middle;\n",
       "    }\n",
       "\n",
       "    .dataframe tbody tr th {\n",
       "        vertical-align: top;\n",
       "    }\n",
       "\n",
       "    .dataframe thead th {\n",
       "        text-align: right;\n",
       "    }\n",
       "</style>\n",
       "<table border=\"1\" class=\"dataframe\">\n",
       "  <thead>\n",
       "    <tr style=\"text-align: right;\">\n",
       "      <th></th>\n",
       "      <th>id</th>\n",
       "      <th>work_year</th>\n",
       "      <th>experience_level</th>\n",
       "      <th>employment_type</th>\n",
       "      <th>job_title</th>\n",
       "      <th>salary</th>\n",
       "      <th>salary_currency</th>\n",
       "      <th>salary_in_usd</th>\n",
       "      <th>employee_residence</th>\n",
       "      <th>remote_ratio</th>\n",
       "      <th>company_location</th>\n",
       "      <th>company_size</th>\n",
       "    </tr>\n",
       "  </thead>\n",
       "  <tbody>\n",
       "    <tr>\n",
       "      <th>0</th>\n",
       "      <td>0</td>\n",
       "      <td>2020</td>\n",
       "      <td>MI</td>\n",
       "      <td>FT</td>\n",
       "      <td>Data Scientist</td>\n",
       "      <td>70000</td>\n",
       "      <td>EUR</td>\n",
       "      <td>79833</td>\n",
       "      <td>DE</td>\n",
       "      <td>0</td>\n",
       "      <td>DE</td>\n",
       "      <td>L</td>\n",
       "    </tr>\n",
       "    <tr>\n",
       "      <th>1</th>\n",
       "      <td>1</td>\n",
       "      <td>2020</td>\n",
       "      <td>SE</td>\n",
       "      <td>FT</td>\n",
       "      <td>Machine Learning Scientist</td>\n",
       "      <td>260000</td>\n",
       "      <td>USD</td>\n",
       "      <td>260000</td>\n",
       "      <td>JP</td>\n",
       "      <td>0</td>\n",
       "      <td>JP</td>\n",
       "      <td>S</td>\n",
       "    </tr>\n",
       "    <tr>\n",
       "      <th>2</th>\n",
       "      <td>2</td>\n",
       "      <td>2020</td>\n",
       "      <td>SE</td>\n",
       "      <td>FT</td>\n",
       "      <td>Big Data Engineer</td>\n",
       "      <td>85000</td>\n",
       "      <td>GBP</td>\n",
       "      <td>109024</td>\n",
       "      <td>GB</td>\n",
       "      <td>50</td>\n",
       "      <td>GB</td>\n",
       "      <td>M</td>\n",
       "    </tr>\n",
       "    <tr>\n",
       "      <th>3</th>\n",
       "      <td>3</td>\n",
       "      <td>2020</td>\n",
       "      <td>MI</td>\n",
       "      <td>FT</td>\n",
       "      <td>Product Data Analyst</td>\n",
       "      <td>20000</td>\n",
       "      <td>USD</td>\n",
       "      <td>20000</td>\n",
       "      <td>HN</td>\n",
       "      <td>0</td>\n",
       "      <td>HN</td>\n",
       "      <td>S</td>\n",
       "    </tr>\n",
       "    <tr>\n",
       "      <th>4</th>\n",
       "      <td>4</td>\n",
       "      <td>2020</td>\n",
       "      <td>SE</td>\n",
       "      <td>FT</td>\n",
       "      <td>Machine Learning Engineer</td>\n",
       "      <td>150000</td>\n",
       "      <td>USD</td>\n",
       "      <td>150000</td>\n",
       "      <td>US</td>\n",
       "      <td>50</td>\n",
       "      <td>US</td>\n",
       "      <td>L</td>\n",
       "    </tr>\n",
       "    <tr>\n",
       "      <th>...</th>\n",
       "      <td>...</td>\n",
       "      <td>...</td>\n",
       "      <td>...</td>\n",
       "      <td>...</td>\n",
       "      <td>...</td>\n",
       "      <td>...</td>\n",
       "      <td>...</td>\n",
       "      <td>...</td>\n",
       "      <td>...</td>\n",
       "      <td>...</td>\n",
       "      <td>...</td>\n",
       "      <td>...</td>\n",
       "    </tr>\n",
       "    <tr>\n",
       "      <th>602</th>\n",
       "      <td>602</td>\n",
       "      <td>2022</td>\n",
       "      <td>SE</td>\n",
       "      <td>FT</td>\n",
       "      <td>Data Engineer</td>\n",
       "      <td>154000</td>\n",
       "      <td>USD</td>\n",
       "      <td>154000</td>\n",
       "      <td>US</td>\n",
       "      <td>100</td>\n",
       "      <td>US</td>\n",
       "      <td>M</td>\n",
       "    </tr>\n",
       "    <tr>\n",
       "      <th>603</th>\n",
       "      <td>603</td>\n",
       "      <td>2022</td>\n",
       "      <td>SE</td>\n",
       "      <td>FT</td>\n",
       "      <td>Data Engineer</td>\n",
       "      <td>126000</td>\n",
       "      <td>USD</td>\n",
       "      <td>126000</td>\n",
       "      <td>US</td>\n",
       "      <td>100</td>\n",
       "      <td>US</td>\n",
       "      <td>M</td>\n",
       "    </tr>\n",
       "    <tr>\n",
       "      <th>604</th>\n",
       "      <td>604</td>\n",
       "      <td>2022</td>\n",
       "      <td>SE</td>\n",
       "      <td>FT</td>\n",
       "      <td>Data Analyst</td>\n",
       "      <td>129000</td>\n",
       "      <td>USD</td>\n",
       "      <td>129000</td>\n",
       "      <td>US</td>\n",
       "      <td>0</td>\n",
       "      <td>US</td>\n",
       "      <td>M</td>\n",
       "    </tr>\n",
       "    <tr>\n",
       "      <th>605</th>\n",
       "      <td>605</td>\n",
       "      <td>2022</td>\n",
       "      <td>SE</td>\n",
       "      <td>FT</td>\n",
       "      <td>Data Analyst</td>\n",
       "      <td>150000</td>\n",
       "      <td>USD</td>\n",
       "      <td>150000</td>\n",
       "      <td>US</td>\n",
       "      <td>100</td>\n",
       "      <td>US</td>\n",
       "      <td>M</td>\n",
       "    </tr>\n",
       "    <tr>\n",
       "      <th>606</th>\n",
       "      <td>606</td>\n",
       "      <td>2022</td>\n",
       "      <td>MI</td>\n",
       "      <td>FT</td>\n",
       "      <td>AI Scientist</td>\n",
       "      <td>200000</td>\n",
       "      <td>USD</td>\n",
       "      <td>200000</td>\n",
       "      <td>IN</td>\n",
       "      <td>100</td>\n",
       "      <td>US</td>\n",
       "      <td>L</td>\n",
       "    </tr>\n",
       "  </tbody>\n",
       "</table>\n",
       "<p>607 rows × 12 columns</p>\n",
       "</div>"
      ],
      "text/plain": [
       "      id  work_year experience_level employment_type  \\\n",
       "0      0       2020               MI              FT   \n",
       "1      1       2020               SE              FT   \n",
       "2      2       2020               SE              FT   \n",
       "3      3       2020               MI              FT   \n",
       "4      4       2020               SE              FT   \n",
       "..   ...        ...              ...             ...   \n",
       "602  602       2022               SE              FT   \n",
       "603  603       2022               SE              FT   \n",
       "604  604       2022               SE              FT   \n",
       "605  605       2022               SE              FT   \n",
       "606  606       2022               MI              FT   \n",
       "\n",
       "                      job_title  salary salary_currency  salary_in_usd  \\\n",
       "0                Data Scientist   70000             EUR          79833   \n",
       "1    Machine Learning Scientist  260000             USD         260000   \n",
       "2             Big Data Engineer   85000             GBP         109024   \n",
       "3          Product Data Analyst   20000             USD          20000   \n",
       "4     Machine Learning Engineer  150000             USD         150000   \n",
       "..                          ...     ...             ...            ...   \n",
       "602               Data Engineer  154000             USD         154000   \n",
       "603               Data Engineer  126000             USD         126000   \n",
       "604                Data Analyst  129000             USD         129000   \n",
       "605                Data Analyst  150000             USD         150000   \n",
       "606                AI Scientist  200000             USD         200000   \n",
       "\n",
       "    employee_residence  remote_ratio company_location company_size  \n",
       "0                   DE             0               DE            L  \n",
       "1                   JP             0               JP            S  \n",
       "2                   GB            50               GB            M  \n",
       "3                   HN             0               HN            S  \n",
       "4                   US            50               US            L  \n",
       "..                 ...           ...              ...          ...  \n",
       "602                 US           100               US            M  \n",
       "603                 US           100               US            M  \n",
       "604                 US             0               US            M  \n",
       "605                 US           100               US            M  \n",
       "606                 IN           100               US            L  \n",
       "\n",
       "[607 rows x 12 columns]"
      ]
     },
     "execution_count": 178,
     "metadata": {},
     "output_type": "execute_result"
    }
   ],
   "source": [
    "df.toPandas()"
   ]
  },
  {
   "cell_type": "markdown",
   "id": "opponent-gazette",
   "metadata": {},
   "source": [
    "create df_job_title that consists from all job_titles without duplicates"
   ]
  },
  {
   "cell_type": "code",
   "execution_count": 179,
   "id": "friendly-cartridge",
   "metadata": {},
   "outputs": [
    {
     "name": "stdout",
     "output_type": "stream",
     "text": [
      "+--------------------+\n",
      "|           job_title|\n",
      "+--------------------+\n",
      "|3D Computer Visio...|\n",
      "|  Lead Data Engineer|\n",
      "|Head of Machine L...|\n",
      "|     Data Specialist|\n",
      "| Data Analytics Lead|\n",
      "|Machine Learning ...|\n",
      "|   Lead Data Analyst|\n",
      "|Data Engineering ...|\n",
      "|Staff Data Scientist|\n",
      "|       ETL Developer|\n",
      "|Director of Data ...|\n",
      "|Product Data Analyst|\n",
      "|Principal Data Sc...|\n",
      "|        AI Scientist|\n",
      "|Director of Data ...|\n",
      "|Machine Learning ...|\n",
      "| Lead Data Scientist|\n",
      "|Machine Learning ...|\n",
      "|Data Science Engi...|\n",
      "|Machine Learning ...|\n",
      "+--------------------+\n",
      "only showing top 20 rows\n",
      "\n"
     ]
    }
   ],
   "source": [
    "df_job_title=df.select(\"job_title\").distinct()\n",
    "df_job_title.show()"
   ]
  },
  {
   "cell_type": "markdown",
   "id": "offshore-architecture",
   "metadata": {},
   "source": [
    "print all rows from df_job_titles without truncating jobs"
   ]
  },
  {
   "cell_type": "code",
   "execution_count": 180,
   "id": "asian-edition",
   "metadata": {},
   "outputs": [
    {
     "name": "stdout",
     "output_type": "stream",
     "text": [
      "+----------------------------------------+\n",
      "|job_title                               |\n",
      "+----------------------------------------+\n",
      "|3D Computer Vision Researcher           |\n",
      "|Lead Data Engineer                      |\n",
      "|Head of Machine Learning                |\n",
      "|Data Specialist                         |\n",
      "|Data Analytics Lead                     |\n",
      "|Machine Learning Scientist              |\n",
      "|Lead Data Analyst                       |\n",
      "|Data Engineering Manager                |\n",
      "|Staff Data Scientist                    |\n",
      "|ETL Developer                           |\n",
      "|Director of Data Engineering            |\n",
      "|Product Data Analyst                    |\n",
      "|Principal Data Scientist                |\n",
      "|AI Scientist                            |\n",
      "|Director of Data Science                |\n",
      "|Machine Learning Engineer               |\n",
      "|Lead Data Scientist                     |\n",
      "|Machine Learning Infrastructure Engineer|\n",
      "|Data Science Engineer                   |\n",
      "|Machine Learning Manager                |\n",
      "+----------------------------------------+\n",
      "only showing top 20 rows\n",
      "\n"
     ]
    }
   ],
   "source": [
    "df_job_title.show(truncate=False)"
   ]
  },
  {
   "cell_type": "markdown",
   "id": "interim-pharmacy",
   "metadata": {},
   "source": [
    "create  df_analytic that will consists from max, avg, min USD salaries for all job_titles using groupBy. name of fields is avg_salary, min_salary, max_salary"
   ]
  },
  {
   "cell_type": "code",
   "execution_count": 181,
   "id": "naval-roller",
   "metadata": {},
   "outputs": [
    {
     "name": "stdout",
     "output_type": "stream",
     "text": [
      "+--------------------+------------------+----------+----------+\n",
      "|           job_title|        avg_salary|min_salary|max_salary|\n",
      "+--------------------+------------------+----------+----------+\n",
      "|  Lead Data Engineer|          154250.0|     56000|    276000|\n",
      "|     Data Specialist|          165000.0|    165000|    165000|\n",
      "| Data Analytics Lead|          405000.0|    405000|    405000|\n",
      "|Machine Learning ...|          158412.5|     12000|    260000|\n",
      "|   Lead Data Analyst|          128500.0|     87000|    170000|\n",
      "|Data Engineering ...|          159000.0|    150000|    174000|\n",
      "|Staff Data Scientist|          105000.0|    105000|    105000|\n",
      "|Director of Data ...|          200000.0|    200000|    200000|\n",
      "|Product Data Analyst|           20000.0|     20000|     20000|\n",
      "|Principal Data Sc...|          255500.0|    151000|    416000|\n",
      "|        AI Scientist|           79800.0|     12000|    200000|\n",
      "|Director of Data ...|247666.66666666666|    168000|    325000|\n",
      "|Machine Learning ...|          140488.0|     20000|    250000|\n",
      "| Lead Data Scientist|          152500.0|    115000|    190000|\n",
      "|Machine Learning ...|          195000.0|    195000|    195000|\n",
      "|Data Science Engi...|           60000.0|     60000|     60000|\n",
      "|  Research Scientist|139428.42857142858|     42000|    450000|\n",
      "|        Head of Data|221666.66666666666|    200000|    235000|\n",
      "| Cloud Data Engineer|          160000.0|    160000|    160000|\n",
      "|Machine Learning ...|          100000.0|    100000|    100000|\n",
      "+--------------------+------------------+----------+----------+\n",
      "only showing top 20 rows\n",
      "\n"
     ]
    }
   ],
   "source": [
    "# df_analytic=df.filter(df[\"salary_currency\"]=='USD').groupBy(\"job_title\".agg((avg(\"salary\").alias(\"avg_salary\"),\n",
    "#          min(\"salary\").alias(\"min_salary\"),\n",
    "#          max(\"salary\").alias(\"max_salary\"))))\n",
    "# df_analytic.show()\n",
    "df_analytic = df.filter(df[\"salary_currency\"]=='USD').groupBy(\"job_title\").agg(\n",
    "         avg(\"salary_in_usd\").alias(\"avg_salary\"),\n",
    "         min(\"salary_in_usd\").alias(\"min_salary\"),\n",
    "         max(\"salary_in_usd\").alias(\"max_salary\"))\n",
    "df_analytic.show()"
   ]
  },
  {
   "cell_type": "markdown",
   "id": "french-pledge",
   "metadata": {},
   "source": [
    "print all rows from df_analytic without trancating jobs"
   ]
  },
  {
   "cell_type": "code",
   "execution_count": 182,
   "id": "bacterial-depression",
   "metadata": {},
   "outputs": [
    {
     "name": "stdout",
     "output_type": "stream",
     "text": [
      "+--------------------+------------------+----------+----------+\n",
      "|           job_title|        avg_salary|min_salary|max_salary|\n",
      "+--------------------+------------------+----------+----------+\n",
      "|  Lead Data Engineer|          154250.0|     56000|    276000|\n",
      "|     Data Specialist|          165000.0|    165000|    165000|\n",
      "| Data Analytics Lead|          405000.0|    405000|    405000|\n",
      "|Machine Learning ...|          158412.5|     12000|    260000|\n",
      "|   Lead Data Analyst|          128500.0|     87000|    170000|\n",
      "|Data Engineering ...|          159000.0|    150000|    174000|\n",
      "|Staff Data Scientist|          105000.0|    105000|    105000|\n",
      "|Director of Data ...|          200000.0|    200000|    200000|\n",
      "|Product Data Analyst|           20000.0|     20000|     20000|\n",
      "|Principal Data Sc...|          255500.0|    151000|    416000|\n",
      "|        AI Scientist|           79800.0|     12000|    200000|\n",
      "|Director of Data ...|247666.66666666666|    168000|    325000|\n",
      "|Machine Learning ...|          140488.0|     20000|    250000|\n",
      "| Lead Data Scientist|          152500.0|    115000|    190000|\n",
      "|Machine Learning ...|          195000.0|    195000|    195000|\n",
      "|Data Science Engi...|           60000.0|     60000|     60000|\n",
      "|  Research Scientist|139428.42857142858|     42000|    450000|\n",
      "|        Head of Data|221666.66666666666|    200000|    235000|\n",
      "| Cloud Data Engineer|          160000.0|    160000|    160000|\n",
      "|Machine Learning ...|          100000.0|    100000|    100000|\n",
      "+--------------------+------------------+----------+----------+\n",
      "only showing top 20 rows\n",
      "\n"
     ]
    }
   ],
   "source": [
    "df_analytic.show(truncate=True)"
   ]
  },
  {
   "cell_type": "markdown",
   "id": "hazardous-color",
   "metadata": {},
   "source": [
    "now you need to add in df_analytic column row_id, that will show order of all job_titles depending on avg salary. they should be descending"
   ]
  },
  {
   "cell_type": "code",
   "execution_count": 183,
   "id": "nearby-treasurer",
   "metadata": {},
   "outputs": [
    {
     "name": "stdout",
     "output_type": "stream",
     "text": [
      "+--------------------+------------------+----------+----------+------+\n",
      "|           job_title|        avg_salary|min_salary|max_salary|row_id|\n",
      "+--------------------+------------------+----------+----------+------+\n",
      "| Data Analytics Lead|          405000.0|    405000|    405000|     1|\n",
      "|Principal Data En...| 328333.3333333333|    185000|    600000|     2|\n",
      "|Financial Data An...|          275000.0|    100000|    450000|     3|\n",
      "|         ML Engineer|          263000.0|    256000|    270000|     4|\n",
      "|Principal Data Sc...|          255500.0|    151000|    416000|     5|\n",
      "|Director of Data ...|247666.66666666666|    168000|    325000|     6|\n",
      "|Applied Data Scie...|          238000.0|    157000|    380000|     7|\n",
      "|        Head of Data|221666.66666666666|    200000|    235000|     8|\n",
      "|Director of Data ...|          200000.0|    200000|    200000|     9|\n",
      "|Machine Learning ...|          195000.0|    195000|    195000|    10|\n",
      "|Applied Machine L...|          178800.0|     38400|    423000|    11|\n",
      "|      Data Architect| 177873.9090909091|     90700|    266400|    12|\n",
      "|Data Science Manager|          175118.3|    137141|    241000|    13|\n",
      "|  Analytics Engineer|          175000.0|    135000|    205300|    14|\n",
      "|     Data Specialist|          165000.0|    165000|    165000|    15|\n",
      "| Cloud Data Engineer|          160000.0|    160000|    160000|    16|\n",
      "|Data Engineering ...|          159000.0|    150000|    174000|    17|\n",
      "|Machine Learning ...|          158412.5|     12000|    260000|    18|\n",
      "|  Lead Data Engineer|          154250.0|     56000|    276000|    19|\n",
      "| Lead Data Scientist|          152500.0|    115000|    190000|    20|\n",
      "+--------------------+------------------+----------+----------+------+\n",
      "only showing top 20 rows\n",
      "\n"
     ]
    }
   ],
   "source": [
    "df_analytic=df_analytic.withColumn(\"row_id\",row_number().over(Window.orderBy(desc(\"avg_salary\"))\n",
    "))\n",
    "df_analytic.show()\n"
   ]
  },
  {
   "cell_type": "markdown",
   "id": "documented-catalog",
   "metadata": {},
   "source": [
    "print all data from df_analytic"
   ]
  },
  {
   "cell_type": "code",
   "execution_count": 184,
   "id": "confirmed-monitoring",
   "metadata": {},
   "outputs": [
    {
     "name": "stdout",
     "output_type": "stream",
     "text": [
      "+--------------------+------------------+----------+----------+------+\n",
      "|           job_title|        avg_salary|min_salary|max_salary|row_id|\n",
      "+--------------------+------------------+----------+----------+------+\n",
      "| Data Analytics Lead|          405000.0|    405000|    405000|     1|\n",
      "|Principal Data En...| 328333.3333333333|    185000|    600000|     2|\n",
      "|Financial Data An...|          275000.0|    100000|    450000|     3|\n",
      "|         ML Engineer|          263000.0|    256000|    270000|     4|\n",
      "|Principal Data Sc...|          255500.0|    151000|    416000|     5|\n",
      "|Director of Data ...|247666.66666666666|    168000|    325000|     6|\n",
      "|Applied Data Scie...|          238000.0|    157000|    380000|     7|\n",
      "|        Head of Data|221666.66666666666|    200000|    235000|     8|\n",
      "|Director of Data ...|          200000.0|    200000|    200000|     9|\n",
      "|Machine Learning ...|          195000.0|    195000|    195000|    10|\n",
      "|Applied Machine L...|          178800.0|     38400|    423000|    11|\n",
      "|      Data Architect| 177873.9090909091|     90700|    266400|    12|\n",
      "|Data Science Manager|          175118.3|    137141|    241000|    13|\n",
      "|  Analytics Engineer|          175000.0|    135000|    205300|    14|\n",
      "|     Data Specialist|          165000.0|    165000|    165000|    15|\n",
      "| Cloud Data Engineer|          160000.0|    160000|    160000|    16|\n",
      "|Data Engineering ...|          159000.0|    150000|    174000|    17|\n",
      "|Machine Learning ...|          158412.5|     12000|    260000|    18|\n",
      "|  Lead Data Engineer|          154250.0|     56000|    276000|    19|\n",
      "| Lead Data Scientist|          152500.0|    115000|    190000|    20|\n",
      "+--------------------+------------------+----------+----------+------+\n",
      "only showing top 20 rows\n",
      "\n"
     ]
    }
   ],
   "source": [
    "df_analytic.show()"
   ]
  },
  {
   "cell_type": "markdown",
   "id": "satellite-quarter",
   "metadata": {},
   "source": [
    "it isn't beautifull, so we need to put now row_id on first place in df_analytic"
   ]
  },
  {
   "cell_type": "code",
   "execution_count": 185,
   "id": "ranging-tribune",
   "metadata": {},
   "outputs": [
    {
     "data": {
      "text/plain": [
       "DataFrame[row_id: int, job_title: string, avg_salary: double, min_salary: int, max_salary: int]"
      ]
     },
     "execution_count": 185,
     "metadata": {},
     "output_type": "execute_result"
    }
   ],
   "source": [
    "#df_analytic=df_analytic.select(\"row_id\",*df_analytic.columns)\n",
    "columns=df_analytic.columns\n",
    "columns.remove(\"row_id\")\n",
    "columns.insert(0,\"row_id\")\n",
    "df_analytic.select(*columns)"
   ]
  },
  {
   "cell_type": "markdown",
   "id": "reliable-amsterdam",
   "metadata": {},
   "source": [
    "print df_analytic now"
   ]
  },
  {
   "cell_type": "code",
   "execution_count": 186,
   "id": "classical-biology",
   "metadata": {},
   "outputs": [
    {
     "name": "stdout",
     "output_type": "stream",
     "text": [
      "+--------------------+------------------+----------+----------+------+\n",
      "|           job_title|        avg_salary|min_salary|max_salary|row_id|\n",
      "+--------------------+------------------+----------+----------+------+\n",
      "| Data Analytics Lead|          405000.0|    405000|    405000|     1|\n",
      "|Principal Data En...| 328333.3333333333|    185000|    600000|     2|\n",
      "|Financial Data An...|          275000.0|    100000|    450000|     3|\n",
      "|         ML Engineer|          263000.0|    256000|    270000|     4|\n",
      "|Principal Data Sc...|          255500.0|    151000|    416000|     5|\n",
      "|Director of Data ...|247666.66666666666|    168000|    325000|     6|\n",
      "|Applied Data Scie...|          238000.0|    157000|    380000|     7|\n",
      "|        Head of Data|221666.66666666666|    200000|    235000|     8|\n",
      "|Director of Data ...|          200000.0|    200000|    200000|     9|\n",
      "|Machine Learning ...|          195000.0|    195000|    195000|    10|\n",
      "|Applied Machine L...|          178800.0|     38400|    423000|    11|\n",
      "|      Data Architect| 177873.9090909091|     90700|    266400|    12|\n",
      "|Data Science Manager|          175118.3|    137141|    241000|    13|\n",
      "|  Analytics Engineer|          175000.0|    135000|    205300|    14|\n",
      "|     Data Specialist|          165000.0|    165000|    165000|    15|\n",
      "| Cloud Data Engineer|          160000.0|    160000|    160000|    16|\n",
      "|Data Engineering ...|          159000.0|    150000|    174000|    17|\n",
      "|Machine Learning ...|          158412.5|     12000|    260000|    18|\n",
      "|  Lead Data Engineer|          154250.0|     56000|    276000|    19|\n",
      "| Lead Data Scientist|          152500.0|    115000|    190000|    20|\n",
      "+--------------------+------------------+----------+----------+------+\n",
      "only showing top 20 rows\n",
      "\n"
     ]
    }
   ],
   "source": [
    "df_analytic.show()"
   ]
  },
  {
   "cell_type": "markdown",
   "id": "hybrid-queensland",
   "metadata": {},
   "source": [
    "here you need to create df_exp_lvl with the biggest usd_salary(biggest_salary) for each experience_level(you need to save all fields like in entire dataframe)"
   ]
  },
  {
   "cell_type": "code",
   "execution_count": 190,
   "id": "dental-wrist",
   "metadata": {},
   "outputs": [
    {
     "name": "stdout",
     "output_type": "stream",
     "text": [
      "+---+---------+----------------+---------------+--------------------+------+---------------+-------------+------------------+------------+----------------+------------+--------------+\n",
      "| id|work_year|experience_level|employment_type|           job_title|salary|salary_currency|salary_in_usd|employee_residence|remote_ratio|company_location|company_size|biggest_salary|\n",
      "+---+---------+----------------+---------------+--------------------+------+---------------+-------------+------------------+------------+----------------+------------+--------------+\n",
      "| 37|     2020|              EN|             FT|Machine Learning ...|250000|            USD|       250000|                US|          50|              US|           L|        250000|\n",
      "|115|     2021|              EN|             FT|Machine Learning ...|225000|            USD|       225000|                US|         100|              US|           L|        250000|\n",
      "|510|     2022|              EN|             FT|Computer Vision S...|150000|            USD|       150000|                AU|         100|              AU|           S|        250000|\n",
      "| 39|     2020|              EN|             FT|Machine Learning ...|138000|            USD|       138000|                US|         100|              US|           S|        250000|\n",
      "|159|     2021|              EN|             FT|Machine Learning ...|125000|            USD|       125000|                US|         100|              US|           S|        250000|\n",
      "|454|     2022|              EN|             FT|Computer Vision E...|125000|            USD|       125000|                US|           0|              US|           M|        250000|\n",
      "|465|     2022|              EN|             FT|       Data Engineer|120000|            USD|       120000|                US|         100|              US|           M|        250000|\n",
      "|508|     2022|              EN|             FT|  Research Scientist|120000|            USD|       120000|                US|         100|              US|           L|        250000|\n",
      "| 68|     2020|              EN|             FT|      Data Scientist|105000|            USD|       105000|                US|         100|              US|           S|        250000|\n",
      "| 28|     2020|              EN|             CT|Business Data Ana...|100000|            USD|       100000|                US|         100|              US|           L|        250000|\n",
      "|130|     2021|              EN|             FT|Machine Learning ...|100000|            USD|       100000|                IQ|          50|              IQ|           S|        250000|\n",
      "|134|     2021|              EN|             FT|      Data Scientist|100000|            USD|       100000|                US|           0|              US|           S|        250000|\n",
      "|275|     2021|              EN|             FT|      Data Scientist|100000|            USD|       100000|                US|         100|              US|           M|        250000|\n",
      "|281|     2021|              EN|             FT|  Research Scientist|100000|            USD|       100000|                JE|           0|              CN|           L|        250000|\n",
      "|461|     2022|              EN|             FT|Financial Data An...|100000|            USD|       100000|                US|          50|              US|           L|        250000|\n",
      "|487|     2022|              EN|             PT|      Data Scientist|100000|            USD|       100000|                DZ|          50|              DZ|           M|        250000|\n",
      "| 51|     2020|              EN|             FT|        Data Analyst| 91000|            USD|        91000|                US|         100|              US|           L|        250000|\n",
      "|118|     2021|              EN|             FT|        Data Analyst| 90000|            USD|        90000|                US|         100|              US|           S|        250000|\n",
      "|199|     2021|              EN|             FT|Data Science Cons...| 90000|            USD|        90000|                US|         100|              US|           S|        250000|\n",
      "|251|     2021|              EN|             FT|      Data Scientist| 90000|            USD|        90000|                US|         100|              US|           S|        250000|\n",
      "+---+---------+----------------+---------------+--------------------+------+---------------+-------------+------------------+------------+----------------+------------+--------------+\n",
      "only showing top 20 rows\n",
      "\n"
     ]
    }
   ],
   "source": [
    "df_usd_salaries = df.filter(df[\"salary_currency\"] == \"USD\")\n",
    "windowSpec = Window.partitionBy(\"experience_level\").orderBy(df_usd_salaries[\"salary_in_usd\"].desc())\n",
    "df_exp_lvl = df_usd_salaries.withColumn(\"biggest_salary\", max(\"salary_in_usd\").over(windowSpec))"
   ]
  },
  {
   "cell_type": "markdown",
   "id": "innovative-hierarchy",
   "metadata": {},
   "source": [
    "print here df_exp_lvl"
   ]
  },
  {
   "cell_type": "code",
   "execution_count": 191,
   "id": "standing-toilet",
   "metadata": {},
   "outputs": [
    {
     "name": "stdout",
     "output_type": "stream",
     "text": [
      "+---+---------+----------------+---------------+--------------------+------+---------------+-------------+------------------+------------+----------------+------------+--------------+\n",
      "| id|work_year|experience_level|employment_type|           job_title|salary|salary_currency|salary_in_usd|employee_residence|remote_ratio|company_location|company_size|biggest_salary|\n",
      "+---+---------+----------------+---------------+--------------------+------+---------------+-------------+------------------+------------+----------------+------------+--------------+\n",
      "| 37|     2020|              EN|             FT|Machine Learning ...|250000|            USD|       250000|                US|          50|              US|           L|        250000|\n",
      "|115|     2021|              EN|             FT|Machine Learning ...|225000|            USD|       225000|                US|         100|              US|           L|        250000|\n",
      "|510|     2022|              EN|             FT|Computer Vision S...|150000|            USD|       150000|                AU|         100|              AU|           S|        250000|\n",
      "| 39|     2020|              EN|             FT|Machine Learning ...|138000|            USD|       138000|                US|         100|              US|           S|        250000|\n",
      "|159|     2021|              EN|             FT|Machine Learning ...|125000|            USD|       125000|                US|         100|              US|           S|        250000|\n",
      "|454|     2022|              EN|             FT|Computer Vision E...|125000|            USD|       125000|                US|           0|              US|           M|        250000|\n",
      "|465|     2022|              EN|             FT|       Data Engineer|120000|            USD|       120000|                US|         100|              US|           M|        250000|\n",
      "|508|     2022|              EN|             FT|  Research Scientist|120000|            USD|       120000|                US|         100|              US|           L|        250000|\n",
      "| 68|     2020|              EN|             FT|      Data Scientist|105000|            USD|       105000|                US|         100|              US|           S|        250000|\n",
      "| 28|     2020|              EN|             CT|Business Data Ana...|100000|            USD|       100000|                US|         100|              US|           L|        250000|\n",
      "|130|     2021|              EN|             FT|Machine Learning ...|100000|            USD|       100000|                IQ|          50|              IQ|           S|        250000|\n",
      "|134|     2021|              EN|             FT|      Data Scientist|100000|            USD|       100000|                US|           0|              US|           S|        250000|\n",
      "|275|     2021|              EN|             FT|      Data Scientist|100000|            USD|       100000|                US|         100|              US|           M|        250000|\n",
      "|281|     2021|              EN|             FT|  Research Scientist|100000|            USD|       100000|                JE|           0|              CN|           L|        250000|\n",
      "|461|     2022|              EN|             FT|Financial Data An...|100000|            USD|       100000|                US|          50|              US|           L|        250000|\n",
      "|487|     2022|              EN|             PT|      Data Scientist|100000|            USD|       100000|                DZ|          50|              DZ|           M|        250000|\n",
      "| 51|     2020|              EN|             FT|        Data Analyst| 91000|            USD|        91000|                US|         100|              US|           L|        250000|\n",
      "|118|     2021|              EN|             FT|        Data Analyst| 90000|            USD|        90000|                US|         100|              US|           S|        250000|\n",
      "|199|     2021|              EN|             FT|Data Science Cons...| 90000|            USD|        90000|                US|         100|              US|           S|        250000|\n",
      "|251|     2021|              EN|             FT|      Data Scientist| 90000|            USD|        90000|                US|         100|              US|           S|        250000|\n",
      "+---+---------+----------------+---------------+--------------------+------+---------------+-------------+------------------+------------+----------------+------------+--------------+\n",
      "only showing top 20 rows\n",
      "\n"
     ]
    }
   ],
   "source": [
    "df_exp_lvl.show()"
   ]
  },
  {
   "cell_type": "markdown",
   "id": "hawaiian-mortgage",
   "metadata": {},
   "source": [
    "create df_best that consists from rows where salary of guy same as biggest salary for other people in his exp_lvl and choose only columns: id, experience_level, biggest_salary, employee_residence"
   ]
  },
  {
   "cell_type": "code",
   "execution_count": 192,
   "id": "toxic-prompt",
   "metadata": {},
   "outputs": [],
   "source": [
    "df_best = df.withColumn(\"biggest_salary\", max(\"salary_in_usd\").over(Window.partitionBy(\"experience_level\").orderBy(df[\"salary_in_usd\"].desc()))).filter(col(\"salary_in_usd\") == col(\"biggest_salary\"))\n",
    "df_best=df_best.select(\"id\",(\"experience_level\"),col(\"biggest_salary\"),col(\"employee_residence\"))\n"
   ]
  },
  {
   "cell_type": "markdown",
   "id": "complex-librarian",
   "metadata": {},
   "source": [
    "print df_best"
   ]
  },
  {
   "cell_type": "code",
   "execution_count": 193,
   "id": "smart-texas",
   "metadata": {},
   "outputs": [
    {
     "name": "stdout",
     "output_type": "stream",
     "text": [
      "+---+----------------+--------------+------------------+\n",
      "| id|experience_level|biggest_salary|employee_residence|\n",
      "+---+----------------+--------------+------------------+\n",
      "| 37|              EN|        250000|                US|\n",
      "|252|              EX|        600000|                US|\n",
      "| 33|              MI|        450000|                US|\n",
      "| 97|              MI|        450000|                US|\n",
      "| 63|              SE|        412000|                US|\n",
      "+---+----------------+--------------+------------------+\n",
      "\n"
     ]
    }
   ],
   "source": [
    "df_best.show()"
   ]
  },
  {
   "cell_type": "markdown",
   "id": "integral-brass",
   "metadata": {},
   "source": [
    "drop duplicates if exist by experience_level"
   ]
  },
  {
   "cell_type": "code",
   "execution_count": 148,
   "id": "immune-marine",
   "metadata": {},
   "outputs": [],
   "source": [
    "df_best = df_best.dropDuplicates(['experience_level'])"
   ]
  },
  {
   "cell_type": "markdown",
   "id": "connected-credit",
   "metadata": {},
   "source": [
    "print df_best"
   ]
  },
  {
   "cell_type": "code",
   "execution_count": 149,
   "id": "specified-wellington",
   "metadata": {},
   "outputs": [
    {
     "name": "stdout",
     "output_type": "stream",
     "text": [
      "+---+----------------+--------------+------------------+\n",
      "| id|experience_level|biggest_salary|employee_residence|\n",
      "+---+----------------+--------------+------------------+\n",
      "| 37|              EN|        250000|                US|\n",
      "|252|              EX|        600000|                US|\n",
      "| 33|              MI|        450000|                US|\n",
      "| 63|              SE|        412000|                US|\n",
      "+---+----------------+--------------+------------------+\n",
      "\n"
     ]
    }
   ],
   "source": [
    "df_best.show()"
   ]
  },
  {
   "cell_type": "markdown",
   "id": "facial-plant",
   "metadata": {},
   "source": [
    "create df_new_best from df_best without id, and make the next: when exp_level = MI we want middle, when SE we want senior, else Null"
   ]
  },
  {
   "cell_type": "code",
   "execution_count": 155,
   "id": "infinite-retail",
   "metadata": {},
   "outputs": [],
   "source": [
    "df_new_best=df_best.select(df_best.columns[1:3])\n",
    "df_new_best = df_new_best.withColumn(\"level\", when(df_new_best[\"experience_level\"] == \"MI\", \"middle\").when(df_new_best[\"experience_level\"] == \"SE\", \"senior\").otherwise(None))"
   ]
  },
  {
   "cell_type": "markdown",
   "id": "changing-fairy",
   "metadata": {},
   "source": [
    "print df_new_best"
   ]
  },
  {
   "cell_type": "code",
   "execution_count": 156,
   "id": "endless-framework",
   "metadata": {},
   "outputs": [
    {
     "name": "stdout",
     "output_type": "stream",
     "text": [
      "+----------------+--------------+------+\n",
      "|experience_level|biggest_salary| level|\n",
      "+----------------+--------------+------+\n",
      "|              EN|        250000|  NULL|\n",
      "|              EX|        600000|  NULL|\n",
      "|              MI|        450000|middle|\n",
      "|              SE|        412000|senior|\n",
      "+----------------+--------------+------+\n",
      "\n"
     ]
    }
   ],
   "source": [
    "df_new_best.show()"
   ]
  },
  {
   "cell_type": "markdown",
   "id": "mineral-status",
   "metadata": {},
   "source": [
    "write df_new_best like 1.csv and load then it to df_final"
   ]
  },
  {
   "cell_type": "code",
   "execution_count": 198,
   "id": "baking-progress",
   "metadata": {},
   "outputs": [],
   "source": [
    "#df_new_best.write.format(\"csv\").mode('overwrite').save(\"1.csv\")\n",
    "#df_final=spark.read.csv(\"./1.csv\",inferSchema=True,header=True)\n",
    "df_final=df_new_best"
   ]
  },
  {
   "cell_type": "markdown",
   "id": "vocal-shooting",
   "metadata": {},
   "source": [
    "print df_final"
   ]
  },
  {
   "cell_type": "code",
   "execution_count": 199,
   "id": "expired-viewer",
   "metadata": {},
   "outputs": [
    {
     "name": "stdout",
     "output_type": "stream",
     "text": [
      "+----------------+--------------+------+\n",
      "|experience_level|biggest_salary| level|\n",
      "+----------------+--------------+------+\n",
      "|              EN|        250000|  NULL|\n",
      "|              EX|        600000|  NULL|\n",
      "|              MI|        450000|middle|\n",
      "|              SE|        412000|senior|\n",
      "+----------------+--------------+------+\n",
      "\n"
     ]
    }
   ],
   "source": [
    "df_final.show()"
   ]
  },
  {
   "cell_type": "markdown",
   "id": "nutritional-progress",
   "metadata": {},
   "source": [
    "filter df_final to delete experience_level where it Null, then join this table by biggest_salary(salary_in_usd) and employee_residence with entire df"
   ]
  },
  {
   "cell_type": "code",
   "execution_count": 212,
   "id": "small-polymer",
   "metadata": {},
   "outputs": [
    {
     "name": "stdout",
     "output_type": "stream",
     "text": [
      "+----------------+--------------+------+\n",
      "|experience_level|biggest_salary| level|\n",
      "+----------------+--------------+------+\n",
      "|              MI|        450000|middle|\n",
      "|              SE|        412000|senior|\n",
      "+----------------+--------------+------+\n",
      "\n"
     ]
    }
   ],
   "source": [
    "df_final=df_final.filter(df_final[\"experience_level\"].isNotNull())\n",
    "\n",
    "df_final = df.join(df_exp_lvl, [\"salary_in_usd\"], \"inner\")\n"
   ]
  },
  {
   "cell_type": "markdown",
   "id": "variable-twins",
   "metadata": {},
   "source": [
    "print df_final"
   ]
  },
  {
   "cell_type": "code",
   "execution_count": 213,
   "id": "generic-block",
   "metadata": {},
   "outputs": [
    {
     "name": "stdout",
     "output_type": "stream",
     "text": [
      "+-------------+---+---------+----------------+---------------+--------------------+------+---------------+------------------+------------+----------------+------------+---+---------+----------------+---------------+--------------------+------+---------------+------------------+------------+----------------+------------+--------------+\n",
      "|salary_in_usd| id|work_year|experience_level|employment_type|           job_title|salary|salary_currency|employee_residence|remote_ratio|company_location|company_size| id|work_year|experience_level|employment_type|           job_title|salary|salary_currency|employee_residence|remote_ratio|company_location|company_size|biggest_salary|\n",
      "+-------------+---+---------+----------------+---------------+--------------------+------+---------------+------------------+------------+----------------+------------+---+---------+----------------+---------------+--------------------+------+---------------+------------------+------------+----------------+------------+--------------+\n",
      "|       250000|167|     2021|              EX|             FT|Director of Data ...|250000|            USD|                US|           0|              US|           L| 37|     2020|              EN|             FT|Machine Learning ...|250000|            USD|                US|          50|              US|           L|        250000|\n",
      "|       250000| 37|     2020|              EN|             FT|Machine Learning ...|250000|            USD|                US|          50|              US|           L| 37|     2020|              EN|             FT|Machine Learning ...|250000|            USD|                US|          50|              US|           L|        250000|\n",
      "|       225000|224|     2021|              SE|             FT|Machine Learning ...|225000|            USD|                US|         100|              CA|           L|115|     2021|              EN|             FT|Machine Learning ...|225000|            USD|                US|         100|              US|           L|        250000|\n",
      "|       225000|115|     2021|              EN|             FT|Machine Learning ...|225000|            USD|                US|         100|              US|           L|115|     2021|              EN|             FT|Machine Learning ...|225000|            USD|                US|         100|              US|           L|        250000|\n",
      "|       150000|605|     2022|              SE|             FT|        Data Analyst|150000|            USD|                US|         100|              US|           M|510|     2022|              EN|             FT|Computer Vision S...|150000|            USD|                AU|         100|              AU|           S|        250000|\n",
      "|       150000|593|     2022|              SE|             FT|      Data Scientist|150000|            USD|                US|         100|              US|           M|510|     2022|              EN|             FT|Computer Vision S...|150000|            USD|                AU|         100|              AU|           S|        250000|\n",
      "|       150000|510|     2022|              EN|             FT|Computer Vision S...|150000|            USD|                AU|         100|              AU|           S|510|     2022|              EN|             FT|Computer Vision S...|150000|            USD|                AU|         100|              AU|           S|        250000|\n",
      "|       150000|356|     2022|              SE|             FT|      Data Scientist|150000|            USD|                US|           0|              US|           M|510|     2022|              EN|             FT|Computer Vision S...|150000|            USD|                AU|         100|              AU|           S|        250000|\n",
      "|       150000|295|     2022|              MI|             FT|       Data Engineer|150000|            USD|                US|         100|              US|           M|510|     2022|              EN|             FT|Computer Vision S...|150000|            USD|                AU|         100|              AU|           S|        250000|\n",
      "|       150000|169|     2021|              MI|             FT|      Data Architect|150000|            USD|                US|         100|              US|           L|510|     2022|              EN|             FT|Computer Vision S...|150000|            USD|                AU|         100|              AU|           S|        250000|\n",
      "|       150000|151|     2021|              MI|             FT|      Data Scientist|150000|            USD|                US|         100|              US|           M|510|     2022|              EN|             FT|Computer Vision S...|150000|            USD|                AU|         100|              AU|           S|        250000|\n",
      "|       150000|142|     2021|              SE|             FT|Data Engineering ...|150000|            USD|                US|           0|              US|           L|510|     2022|              EN|             FT|Computer Vision S...|150000|            USD|                AU|         100|              AU|           S|        250000|\n",
      "|       150000|108|     2021|              SE|             FT|       Data Engineer|150000|            USD|                US|         100|              US|           M|510|     2022|              EN|             FT|Computer Vision S...|150000|            USD|                AU|         100|              AU|           S|        250000|\n",
      "|       150000|101|     2021|              SE|             FT|       Data Engineer|150000|            USD|                US|         100|              US|           L|510|     2022|              EN|             FT|Computer Vision S...|150000|            USD|                AU|         100|              AU|           S|        250000|\n",
      "|       150000| 73|     2021|              EX|             FT|     BI Data Analyst|150000|            USD|                IN|         100|              US|           L|510|     2022|              EN|             FT|Computer Vision S...|150000|            USD|                AU|         100|              AU|           S|        250000|\n",
      "|       150000|  4|     2020|              SE|             FT|Machine Learning ...|150000|            USD|                US|          50|              US|           L|510|     2022|              EN|             FT|Computer Vision S...|150000|            USD|                AU|         100|              AU|           S|        250000|\n",
      "|       138000| 39|     2020|              EN|             FT|Machine Learning ...|138000|            USD|                US|         100|              US|           S| 39|     2020|              EN|             FT|Machine Learning ...|138000|            USD|                US|         100|              US|           S|        250000|\n",
      "|       125000|454|     2022|              EN|             FT|Computer Vision E...|125000|            USD|                US|           0|              US|           M|159|     2021|              EN|             FT|Machine Learning ...|125000|            USD|                US|         100|              US|           S|        250000|\n",
      "|       125000|159|     2021|              EN|             FT|Machine Learning ...|125000|            USD|                US|         100|              US|           S|159|     2021|              EN|             FT|Machine Learning ...|125000|            USD|                US|         100|              US|           S|        250000|\n",
      "|       125000|  9|     2020|              SE|             FT|  Lead Data Engineer|125000|            USD|                NZ|          50|              NZ|           S|159|     2021|              EN|             FT|Machine Learning ...|125000|            USD|                US|         100|              US|           S|        250000|\n",
      "+-------------+---+---------+----------------+---------------+--------------------+------+---------------+------------------+------------+----------------+------------+---+---------+----------------+---------------+--------------------+------+---------------+------------------+------------+----------------+------------+--------------+\n",
      "only showing top 20 rows\n",
      "\n"
     ]
    }
   ],
   "source": [
    "df_final.show()"
   ]
  },
  {
   "cell_type": "markdown",
   "id": "variable-moore",
   "metadata": {},
   "source": [
    "last task is to save in variable and then print this variable of the biggest salary_in_usd from df_final"
   ]
  },
  {
   "cell_type": "code",
   "execution_count": 224,
   "id": "individual-institution",
   "metadata": {},
   "outputs": [
    {
     "name": "stdout",
     "output_type": "stream",
     "text": [
      "600000\n"
     ]
    }
   ],
   "source": [
    "max_salary=df_final.agg({\"salary_in_usd\":\"max\"}).collect()[0][0]\n",
    "print(max_salary)"
   ]
  },
  {
   "cell_type": "markdown",
   "id": "stopped-procedure",
   "metadata": {},
   "source": [
    "It is the end of PySpark basics. In other lessons you will learn optimizations technics and how to make distributed system"
   ]
  }
 ],
 "metadata": {
  "kernelspec": {
   "display_name": "Python 3",
   "language": "python",
   "name": "python3"
  },
  "language_info": {
   "codemirror_mode": {
    "name": "ipython",
    "version": 3
   },
   "file_extension": ".py",
   "mimetype": "text/x-python",
   "name": "python",
   "nbconvert_exporter": "python",
   "pygments_lexer": "ipython3",
   "version": "3.10.11"
  }
 },
 "nbformat": 4,
 "nbformat_minor": 5
}
